{
  "nbformat": 4,
  "nbformat_minor": 0,
  "metadata": {
    "colab": {
      "name": "CE802_P2_Notebook.ipynb",
      "provenance": [],
      "collapsed_sections": [],
      "authorship_tag": "ABX9TyPJ0TfBNJXAd5N77J8UzU0r",
      "include_colab_link": true
    },
    "kernelspec": {
      "name": "python3",
      "display_name": "Python 3"
    },
    "language_info": {
      "name": "python"
    }
  },
  "cells": [
    {
      "cell_type": "markdown",
      "metadata": {
        "id": "view-in-github",
        "colab_type": "text"
      },
      "source": [
        "<a href=\"https://colab.research.google.com/github/bukhtiarhaider/CE802/blob/main/CE802_P2_Notebook.ipynb\" target=\"_parent\"><img src=\"https://colab.research.google.com/assets/colab-badge.svg\" alt=\"Open In Colab\"/></a>"
      ]
    },
    {
      "cell_type": "code",
      "execution_count": 7,
      "metadata": {
        "id": "WGcPhUSQ9CDi"
      },
      "outputs": [],
      "source": [
        "%matplotlib inline\n",
        "import pandas as pd\n",
        "import seaborn as sns\n",
        "import numpy as np\n",
        "import matplotlib.pyplot as plt\n",
        "from google.colab import files\n",
        "from collections import Counter\n",
        "from sklearn.impute import KNNImputer as KNN\n",
        "from sklearn.tree import DecisionTreeClassifier\n",
        "from imblearn.over_sampling import SMOTE\n",
        "from sklearn.metrics import f1_score\n",
        "from sklearn.model_selection import GridSearchCV, cross_validate\n",
        "from sklearn.linear_model import LogisticRegression\n",
        "from sklearn.preprocessing import StandardScaler\n",
        "from sklearn.model_selection import train_test_split\n",
        "from sklearn.neighbors import  KNeighborsClassifier\n",
        "from sklearn.neural_network import MLPClassifier\n",
        "from sklearn.ensemble import RandomForestClassifier, AdaBoostClassifier, GradientBoostingClassifier"
      ]
    },
    {
      "cell_type": "code",
      "source": [
        "# Load the data\n",
        "df = pd.read_csv('https://raw.githubusercontent.com/bukhtiarhaider/CE802/main/CE802_P2_Data.csv')\n",
        "df_test = pd.read_csv('https://raw.githubusercontent.com/bukhtiarhaider/CE802/main/CE802_P2_Test.csv')\n",
        "df.head() # Just taking a quick look at the data"
      ],
      "metadata": {
        "colab": {
          "base_uri": "https://localhost:8080/",
          "height": 206
        },
        "id": "ossyKde2_7Yx",
        "outputId": "a80e97a3-84b0-447b-a7f9-e2db14967dff"
      },
      "execution_count": 8,
      "outputs": [
        {
          "output_type": "execute_result",
          "data": {
            "text/plain": [
              "       F1    F2  F3     F4    F5     F6     F7     F8     F9    F10  F11  \\\n",
              "0 -471.81 -1.14  20   7.45  1.98  -0.18  -9.18 -38.61 -28.14 -12.90   60   \n",
              "1 -546.81 -8.52  20   6.40  4.24   3.42 -11.31 -46.26 -48.14 -11.28  350   \n",
              "2 -486.81 -6.66  20  10.15 -1.22   3.34 -14.01 -39.81 -48.14 -12.14  190   \n",
              "3 -282.81  8.37   2   0.38  3.58 -16.24   2.19 -22.26 -22.14 -22.32   10   \n",
              "4 -336.81 -2.16  20   8.45 -1.18   2.94 -11.10 -37.11 -28.14 -15.84  105   \n",
              "\n",
              "      F12   F13   F14    F15  Class  \n",
              "0 -189.87  8.45  4.85   9.24  False  \n",
              "1  -44.87  7.20  2.91  10.32  False  \n",
              "2 -124.87  8.55  6.31  11.25   True  \n",
              "3  -34.87  1.43  8.50  10.15  False  \n",
              "4 -124.87  6.45  4.17    NaN  False  "
            ],
            "text/html": [
              "\n",
              "  <div id=\"df-2eee142d-4d88-4b8d-a259-f96cf0ad8dc1\">\n",
              "    <div class=\"colab-df-container\">\n",
              "      <div>\n",
              "<style scoped>\n",
              "    .dataframe tbody tr th:only-of-type {\n",
              "        vertical-align: middle;\n",
              "    }\n",
              "\n",
              "    .dataframe tbody tr th {\n",
              "        vertical-align: top;\n",
              "    }\n",
              "\n",
              "    .dataframe thead th {\n",
              "        text-align: right;\n",
              "    }\n",
              "</style>\n",
              "<table border=\"1\" class=\"dataframe\">\n",
              "  <thead>\n",
              "    <tr style=\"text-align: right;\">\n",
              "      <th></th>\n",
              "      <th>F1</th>\n",
              "      <th>F2</th>\n",
              "      <th>F3</th>\n",
              "      <th>F4</th>\n",
              "      <th>F5</th>\n",
              "      <th>F6</th>\n",
              "      <th>F7</th>\n",
              "      <th>F8</th>\n",
              "      <th>F9</th>\n",
              "      <th>F10</th>\n",
              "      <th>F11</th>\n",
              "      <th>F12</th>\n",
              "      <th>F13</th>\n",
              "      <th>F14</th>\n",
              "      <th>F15</th>\n",
              "      <th>Class</th>\n",
              "    </tr>\n",
              "  </thead>\n",
              "  <tbody>\n",
              "    <tr>\n",
              "      <th>0</th>\n",
              "      <td>-471.81</td>\n",
              "      <td>-1.14</td>\n",
              "      <td>20</td>\n",
              "      <td>7.45</td>\n",
              "      <td>1.98</td>\n",
              "      <td>-0.18</td>\n",
              "      <td>-9.18</td>\n",
              "      <td>-38.61</td>\n",
              "      <td>-28.14</td>\n",
              "      <td>-12.90</td>\n",
              "      <td>60</td>\n",
              "      <td>-189.87</td>\n",
              "      <td>8.45</td>\n",
              "      <td>4.85</td>\n",
              "      <td>9.24</td>\n",
              "      <td>False</td>\n",
              "    </tr>\n",
              "    <tr>\n",
              "      <th>1</th>\n",
              "      <td>-546.81</td>\n",
              "      <td>-8.52</td>\n",
              "      <td>20</td>\n",
              "      <td>6.40</td>\n",
              "      <td>4.24</td>\n",
              "      <td>3.42</td>\n",
              "      <td>-11.31</td>\n",
              "      <td>-46.26</td>\n",
              "      <td>-48.14</td>\n",
              "      <td>-11.28</td>\n",
              "      <td>350</td>\n",
              "      <td>-44.87</td>\n",
              "      <td>7.20</td>\n",
              "      <td>2.91</td>\n",
              "      <td>10.32</td>\n",
              "      <td>False</td>\n",
              "    </tr>\n",
              "    <tr>\n",
              "      <th>2</th>\n",
              "      <td>-486.81</td>\n",
              "      <td>-6.66</td>\n",
              "      <td>20</td>\n",
              "      <td>10.15</td>\n",
              "      <td>-1.22</td>\n",
              "      <td>3.34</td>\n",
              "      <td>-14.01</td>\n",
              "      <td>-39.81</td>\n",
              "      <td>-48.14</td>\n",
              "      <td>-12.14</td>\n",
              "      <td>190</td>\n",
              "      <td>-124.87</td>\n",
              "      <td>8.55</td>\n",
              "      <td>6.31</td>\n",
              "      <td>11.25</td>\n",
              "      <td>True</td>\n",
              "    </tr>\n",
              "    <tr>\n",
              "      <th>3</th>\n",
              "      <td>-282.81</td>\n",
              "      <td>8.37</td>\n",
              "      <td>2</td>\n",
              "      <td>0.38</td>\n",
              "      <td>3.58</td>\n",
              "      <td>-16.24</td>\n",
              "      <td>2.19</td>\n",
              "      <td>-22.26</td>\n",
              "      <td>-22.14</td>\n",
              "      <td>-22.32</td>\n",
              "      <td>10</td>\n",
              "      <td>-34.87</td>\n",
              "      <td>1.43</td>\n",
              "      <td>8.50</td>\n",
              "      <td>10.15</td>\n",
              "      <td>False</td>\n",
              "    </tr>\n",
              "    <tr>\n",
              "      <th>4</th>\n",
              "      <td>-336.81</td>\n",
              "      <td>-2.16</td>\n",
              "      <td>20</td>\n",
              "      <td>8.45</td>\n",
              "      <td>-1.18</td>\n",
              "      <td>2.94</td>\n",
              "      <td>-11.10</td>\n",
              "      <td>-37.11</td>\n",
              "      <td>-28.14</td>\n",
              "      <td>-15.84</td>\n",
              "      <td>105</td>\n",
              "      <td>-124.87</td>\n",
              "      <td>6.45</td>\n",
              "      <td>4.17</td>\n",
              "      <td>NaN</td>\n",
              "      <td>False</td>\n",
              "    </tr>\n",
              "  </tbody>\n",
              "</table>\n",
              "</div>\n",
              "      <button class=\"colab-df-convert\" onclick=\"convertToInteractive('df-2eee142d-4d88-4b8d-a259-f96cf0ad8dc1')\"\n",
              "              title=\"Convert this dataframe to an interactive table.\"\n",
              "              style=\"display:none;\">\n",
              "        \n",
              "  <svg xmlns=\"http://www.w3.org/2000/svg\" height=\"24px\"viewBox=\"0 0 24 24\"\n",
              "       width=\"24px\">\n",
              "    <path d=\"M0 0h24v24H0V0z\" fill=\"none\"/>\n",
              "    <path d=\"M18.56 5.44l.94 2.06.94-2.06 2.06-.94-2.06-.94-.94-2.06-.94 2.06-2.06.94zm-11 1L8.5 8.5l.94-2.06 2.06-.94-2.06-.94L8.5 2.5l-.94 2.06-2.06.94zm10 10l.94 2.06.94-2.06 2.06-.94-2.06-.94-.94-2.06-.94 2.06-2.06.94z\"/><path d=\"M17.41 7.96l-1.37-1.37c-.4-.4-.92-.59-1.43-.59-.52 0-1.04.2-1.43.59L10.3 9.45l-7.72 7.72c-.78.78-.78 2.05 0 2.83L4 21.41c.39.39.9.59 1.41.59.51 0 1.02-.2 1.41-.59l7.78-7.78 2.81-2.81c.8-.78.8-2.07 0-2.86zM5.41 20L4 18.59l7.72-7.72 1.47 1.35L5.41 20z\"/>\n",
              "  </svg>\n",
              "      </button>\n",
              "      \n",
              "  <style>\n",
              "    .colab-df-container {\n",
              "      display:flex;\n",
              "      flex-wrap:wrap;\n",
              "      gap: 12px;\n",
              "    }\n",
              "\n",
              "    .colab-df-convert {\n",
              "      background-color: #E8F0FE;\n",
              "      border: none;\n",
              "      border-radius: 50%;\n",
              "      cursor: pointer;\n",
              "      display: none;\n",
              "      fill: #1967D2;\n",
              "      height: 32px;\n",
              "      padding: 0 0 0 0;\n",
              "      width: 32px;\n",
              "    }\n",
              "\n",
              "    .colab-df-convert:hover {\n",
              "      background-color: #E2EBFA;\n",
              "      box-shadow: 0px 1px 2px rgba(60, 64, 67, 0.3), 0px 1px 3px 1px rgba(60, 64, 67, 0.15);\n",
              "      fill: #174EA6;\n",
              "    }\n",
              "\n",
              "    [theme=dark] .colab-df-convert {\n",
              "      background-color: #3B4455;\n",
              "      fill: #D2E3FC;\n",
              "    }\n",
              "\n",
              "    [theme=dark] .colab-df-convert:hover {\n",
              "      background-color: #434B5C;\n",
              "      box-shadow: 0px 1px 3px 1px rgba(0, 0, 0, 0.15);\n",
              "      filter: drop-shadow(0px 1px 2px rgba(0, 0, 0, 0.3));\n",
              "      fill: #FFFFFF;\n",
              "    }\n",
              "  </style>\n",
              "\n",
              "      <script>\n",
              "        const buttonEl =\n",
              "          document.querySelector('#df-2eee142d-4d88-4b8d-a259-f96cf0ad8dc1 button.colab-df-convert');\n",
              "        buttonEl.style.display =\n",
              "          google.colab.kernel.accessAllowed ? 'block' : 'none';\n",
              "\n",
              "        async function convertToInteractive(key) {\n",
              "          const element = document.querySelector('#df-2eee142d-4d88-4b8d-a259-f96cf0ad8dc1');\n",
              "          const dataTable =\n",
              "            await google.colab.kernel.invokeFunction('convertToInteractive',\n",
              "                                                     [key], {});\n",
              "          if (!dataTable) return;\n",
              "\n",
              "          const docLinkHtml = 'Like what you see? Visit the ' +\n",
              "            '<a target=\"_blank\" href=https://colab.research.google.com/notebooks/data_table.ipynb>data table notebook</a>'\n",
              "            + ' to learn more about interactive tables.';\n",
              "          element.innerHTML = '';\n",
              "          dataTable['output_type'] = 'display_data';\n",
              "          await google.colab.output.renderOutput(dataTable, element);\n",
              "          const docLink = document.createElement('div');\n",
              "          docLink.innerHTML = docLinkHtml;\n",
              "          element.appendChild(docLink);\n",
              "        }\n",
              "      </script>\n",
              "    </div>\n",
              "  </div>\n",
              "  "
            ]
          },
          "metadata": {},
          "execution_count": 8
        }
      ]
    },
    {
      "cell_type": "code",
      "source": [
        "df_test.head()\n"
      ],
      "metadata": {
        "colab": {
          "base_uri": "https://localhost:8080/",
          "height": 206
        },
        "id": "DCvQ0tekYMQo",
        "outputId": "e388bb85-6323-4f63-f994-b4ef4c503e29"
      },
      "execution_count": 9,
      "outputs": [
        {
          "output_type": "execute_result",
          "data": {
            "text/plain": [
              "       F1     F2  F3    F4    F5    F6     F7     F8     F9    F10  F11  \\\n",
              "0 -234.81   9.00   0  0.40  6.70 -6.82  11.82 -21.15 -22.14 -23.18   26   \n",
              "1   23.19  -6.33  20  6.85 -2.52  0.14 -13.23 -38.91 -68.14 -16.52  365   \n",
              "2 -243.81  20.52   2  0.53  1.66 -8.06   2.01 -20.55 -26.14 -21.62    4   \n",
              "3 -306.81  -1.95  20  5.25  2.58 -0.08  -9.66 -39.51 -28.14 -18.46  100   \n",
              "4  -81.81   8.19  20  5.35 -3.66 -1.84  10.32 -37.26 -48.14 -17.96  210   \n",
              "\n",
              "      F12    F13   F14    F15  Class  \n",
              "0  -14.87   1.03  8.35    NaN    NaN  \n",
              "1  -39.87   8.30  4.55  11.64    NaN  \n",
              "2    0.13   1.39  8.67  12.84    NaN  \n",
              "3 -119.87   7.95  4.62   9.13    NaN  \n",
              "4 -189.87  12.80  6.19    NaN    NaN  "
            ],
            "text/html": [
              "\n",
              "  <div id=\"df-29e03d44-8778-4672-8aee-12222837d764\">\n",
              "    <div class=\"colab-df-container\">\n",
              "      <div>\n",
              "<style scoped>\n",
              "    .dataframe tbody tr th:only-of-type {\n",
              "        vertical-align: middle;\n",
              "    }\n",
              "\n",
              "    .dataframe tbody tr th {\n",
              "        vertical-align: top;\n",
              "    }\n",
              "\n",
              "    .dataframe thead th {\n",
              "        text-align: right;\n",
              "    }\n",
              "</style>\n",
              "<table border=\"1\" class=\"dataframe\">\n",
              "  <thead>\n",
              "    <tr style=\"text-align: right;\">\n",
              "      <th></th>\n",
              "      <th>F1</th>\n",
              "      <th>F2</th>\n",
              "      <th>F3</th>\n",
              "      <th>F4</th>\n",
              "      <th>F5</th>\n",
              "      <th>F6</th>\n",
              "      <th>F7</th>\n",
              "      <th>F8</th>\n",
              "      <th>F9</th>\n",
              "      <th>F10</th>\n",
              "      <th>F11</th>\n",
              "      <th>F12</th>\n",
              "      <th>F13</th>\n",
              "      <th>F14</th>\n",
              "      <th>F15</th>\n",
              "      <th>Class</th>\n",
              "    </tr>\n",
              "  </thead>\n",
              "  <tbody>\n",
              "    <tr>\n",
              "      <th>0</th>\n",
              "      <td>-234.81</td>\n",
              "      <td>9.00</td>\n",
              "      <td>0</td>\n",
              "      <td>0.40</td>\n",
              "      <td>6.70</td>\n",
              "      <td>-6.82</td>\n",
              "      <td>11.82</td>\n",
              "      <td>-21.15</td>\n",
              "      <td>-22.14</td>\n",
              "      <td>-23.18</td>\n",
              "      <td>26</td>\n",
              "      <td>-14.87</td>\n",
              "      <td>1.03</td>\n",
              "      <td>8.35</td>\n",
              "      <td>NaN</td>\n",
              "      <td>NaN</td>\n",
              "    </tr>\n",
              "    <tr>\n",
              "      <th>1</th>\n",
              "      <td>23.19</td>\n",
              "      <td>-6.33</td>\n",
              "      <td>20</td>\n",
              "      <td>6.85</td>\n",
              "      <td>-2.52</td>\n",
              "      <td>0.14</td>\n",
              "      <td>-13.23</td>\n",
              "      <td>-38.91</td>\n",
              "      <td>-68.14</td>\n",
              "      <td>-16.52</td>\n",
              "      <td>365</td>\n",
              "      <td>-39.87</td>\n",
              "      <td>8.30</td>\n",
              "      <td>4.55</td>\n",
              "      <td>11.64</td>\n",
              "      <td>NaN</td>\n",
              "    </tr>\n",
              "    <tr>\n",
              "      <th>2</th>\n",
              "      <td>-243.81</td>\n",
              "      <td>20.52</td>\n",
              "      <td>2</td>\n",
              "      <td>0.53</td>\n",
              "      <td>1.66</td>\n",
              "      <td>-8.06</td>\n",
              "      <td>2.01</td>\n",
              "      <td>-20.55</td>\n",
              "      <td>-26.14</td>\n",
              "      <td>-21.62</td>\n",
              "      <td>4</td>\n",
              "      <td>0.13</td>\n",
              "      <td>1.39</td>\n",
              "      <td>8.67</td>\n",
              "      <td>12.84</td>\n",
              "      <td>NaN</td>\n",
              "    </tr>\n",
              "    <tr>\n",
              "      <th>3</th>\n",
              "      <td>-306.81</td>\n",
              "      <td>-1.95</td>\n",
              "      <td>20</td>\n",
              "      <td>5.25</td>\n",
              "      <td>2.58</td>\n",
              "      <td>-0.08</td>\n",
              "      <td>-9.66</td>\n",
              "      <td>-39.51</td>\n",
              "      <td>-28.14</td>\n",
              "      <td>-18.46</td>\n",
              "      <td>100</td>\n",
              "      <td>-119.87</td>\n",
              "      <td>7.95</td>\n",
              "      <td>4.62</td>\n",
              "      <td>9.13</td>\n",
              "      <td>NaN</td>\n",
              "    </tr>\n",
              "    <tr>\n",
              "      <th>4</th>\n",
              "      <td>-81.81</td>\n",
              "      <td>8.19</td>\n",
              "      <td>20</td>\n",
              "      <td>5.35</td>\n",
              "      <td>-3.66</td>\n",
              "      <td>-1.84</td>\n",
              "      <td>10.32</td>\n",
              "      <td>-37.26</td>\n",
              "      <td>-48.14</td>\n",
              "      <td>-17.96</td>\n",
              "      <td>210</td>\n",
              "      <td>-189.87</td>\n",
              "      <td>12.80</td>\n",
              "      <td>6.19</td>\n",
              "      <td>NaN</td>\n",
              "      <td>NaN</td>\n",
              "    </tr>\n",
              "  </tbody>\n",
              "</table>\n",
              "</div>\n",
              "      <button class=\"colab-df-convert\" onclick=\"convertToInteractive('df-29e03d44-8778-4672-8aee-12222837d764')\"\n",
              "              title=\"Convert this dataframe to an interactive table.\"\n",
              "              style=\"display:none;\">\n",
              "        \n",
              "  <svg xmlns=\"http://www.w3.org/2000/svg\" height=\"24px\"viewBox=\"0 0 24 24\"\n",
              "       width=\"24px\">\n",
              "    <path d=\"M0 0h24v24H0V0z\" fill=\"none\"/>\n",
              "    <path d=\"M18.56 5.44l.94 2.06.94-2.06 2.06-.94-2.06-.94-.94-2.06-.94 2.06-2.06.94zm-11 1L8.5 8.5l.94-2.06 2.06-.94-2.06-.94L8.5 2.5l-.94 2.06-2.06.94zm10 10l.94 2.06.94-2.06 2.06-.94-2.06-.94-.94-2.06-.94 2.06-2.06.94z\"/><path d=\"M17.41 7.96l-1.37-1.37c-.4-.4-.92-.59-1.43-.59-.52 0-1.04.2-1.43.59L10.3 9.45l-7.72 7.72c-.78.78-.78 2.05 0 2.83L4 21.41c.39.39.9.59 1.41.59.51 0 1.02-.2 1.41-.59l7.78-7.78 2.81-2.81c.8-.78.8-2.07 0-2.86zM5.41 20L4 18.59l7.72-7.72 1.47 1.35L5.41 20z\"/>\n",
              "  </svg>\n",
              "      </button>\n",
              "      \n",
              "  <style>\n",
              "    .colab-df-container {\n",
              "      display:flex;\n",
              "      flex-wrap:wrap;\n",
              "      gap: 12px;\n",
              "    }\n",
              "\n",
              "    .colab-df-convert {\n",
              "      background-color: #E8F0FE;\n",
              "      border: none;\n",
              "      border-radius: 50%;\n",
              "      cursor: pointer;\n",
              "      display: none;\n",
              "      fill: #1967D2;\n",
              "      height: 32px;\n",
              "      padding: 0 0 0 0;\n",
              "      width: 32px;\n",
              "    }\n",
              "\n",
              "    .colab-df-convert:hover {\n",
              "      background-color: #E2EBFA;\n",
              "      box-shadow: 0px 1px 2px rgba(60, 64, 67, 0.3), 0px 1px 3px 1px rgba(60, 64, 67, 0.15);\n",
              "      fill: #174EA6;\n",
              "    }\n",
              "\n",
              "    [theme=dark] .colab-df-convert {\n",
              "      background-color: #3B4455;\n",
              "      fill: #D2E3FC;\n",
              "    }\n",
              "\n",
              "    [theme=dark] .colab-df-convert:hover {\n",
              "      background-color: #434B5C;\n",
              "      box-shadow: 0px 1px 3px 1px rgba(0, 0, 0, 0.15);\n",
              "      filter: drop-shadow(0px 1px 2px rgba(0, 0, 0, 0.3));\n",
              "      fill: #FFFFFF;\n",
              "    }\n",
              "  </style>\n",
              "\n",
              "      <script>\n",
              "        const buttonEl =\n",
              "          document.querySelector('#df-29e03d44-8778-4672-8aee-12222837d764 button.colab-df-convert');\n",
              "        buttonEl.style.display =\n",
              "          google.colab.kernel.accessAllowed ? 'block' : 'none';\n",
              "\n",
              "        async function convertToInteractive(key) {\n",
              "          const element = document.querySelector('#df-29e03d44-8778-4672-8aee-12222837d764');\n",
              "          const dataTable =\n",
              "            await google.colab.kernel.invokeFunction('convertToInteractive',\n",
              "                                                     [key], {});\n",
              "          if (!dataTable) return;\n",
              "\n",
              "          const docLinkHtml = 'Like what you see? Visit the ' +\n",
              "            '<a target=\"_blank\" href=https://colab.research.google.com/notebooks/data_table.ipynb>data table notebook</a>'\n",
              "            + ' to learn more about interactive tables.';\n",
              "          element.innerHTML = '';\n",
              "          dataTable['output_type'] = 'display_data';\n",
              "          await google.colab.output.renderOutput(dataTable, element);\n",
              "          const docLink = document.createElement('div');\n",
              "          docLink.innerHTML = docLinkHtml;\n",
              "          element.appendChild(docLink);\n",
              "        }\n",
              "      </script>\n",
              "    </div>\n",
              "  </div>\n",
              "  "
            ]
          },
          "metadata": {},
          "execution_count": 9
        }
      ]
    },
    {
      "cell_type": "code",
      "source": [
        "#print(df.info())"
      ],
      "metadata": {
        "id": "uiq5nNn2ARIt"
      },
      "execution_count": 10,
      "outputs": []
    },
    {
      "cell_type": "code",
      "source": [
        "lis = []\n",
        "for i in range(0, df.shape[1]):\n",
        "     \n",
        "    if(df.iloc[:,i].dtypes == 'object'):\n",
        "        df.iloc[:,i] = pd.Categorical(df.iloc[:,i])\n",
        "        #print(marketing_train[[i]])\n",
        "        df.iloc[:,i] = df.iloc[:,i].cat.codes \n",
        "        df.iloc[:,i] = df.iloc[:,i].astype('object')\n",
        "         \n",
        "        lis.append(df.columns[i])\n",
        "\n",
        "lis2 = []\n",
        "for i in range(0, df_test.shape[1]):\n",
        "     \n",
        "    if(df_test.iloc[:,i].dtypes == 'object'):\n",
        "        df_test.iloc[:,i] = pd.Categorical(df_test.iloc[:,i])\n",
        "        #print(marketing_train[[i]])\n",
        "        df_test.iloc[:,i] = df_test.iloc[:,i].cat.codes \n",
        "        df_test.iloc[:,i] = df_test.iloc[:,i].astype('object')\n",
        "         \n",
        "        lis2.append(df_test.columns[i])"
      ],
      "metadata": {
        "id": "FDcfPJzOQNZU"
      },
      "execution_count": 11,
      "outputs": []
    },
    {
      "cell_type": "code",
      "source": [
        "classes = df['Class'].astype(int)\n",
        "classes.hist(bins=10)"
      ],
      "metadata": {
        "colab": {
          "base_uri": "https://localhost:8080/",
          "height": 283
        },
        "id": "vAO8UGRgdEgE",
        "outputId": "15009f13-ce83-4d9a-c375-b1a34cb2f319"
      },
      "execution_count": 12,
      "outputs": [
        {
          "output_type": "execute_result",
          "data": {
            "text/plain": [
              "<matplotlib.axes._subplots.AxesSubplot at 0x7f3565d7bf10>"
            ]
          },
          "metadata": {},
          "execution_count": 12
        },
        {
          "output_type": "display_data",
          "data": {
            "text/plain": [
              "<Figure size 432x288 with 1 Axes>"
            ],
            "image/png": "[encoded data removed]"
          },
          "metadata": {
            "needs_background": "light"
          }
        }
      ]
    },
    {
      "cell_type": "code",
      "source": [
        "df_nan_count = df['F15'].isna().sum()\n",
        "print(\"NaN count in Train F15: \", df_nan_count)\n",
        "\n",
        "df_nan_count = df_test['F15'].isna().sum()\n",
        "print(\"NaN count in Test F15: \", df_nan_count)"
      ],
      "metadata": {
        "colab": {
          "base_uri": "https://localhost:8080/"
        },
        "id": "eNMayGmVQgj3",
        "outputId": "cbb23830-b1bb-49e2-e8f1-d99f1993ee3a"
      },
      "execution_count": 13,
      "outputs": [
        {
          "output_type": "stream",
          "name": "stdout",
          "text": [
            "NaN count in Train F15:  750\n",
            "NaN count in Test F15:  750\n"
          ]
        }
      ]
    },
    {
      "cell_type": "code",
      "source": [
        "#Apply KNN imputation algorithm\n",
        "df = pd.DataFrame(KNN(n_neighbors = 3).fit_transform(df), columns = df.columns)\n",
        "X_holdout = pd.DataFrame(KNN(n_neighbors = 3).fit_transform(df_test), columns = df_test.drop('Class', axis = 1).columns)"
      ],
      "metadata": {
        "id": "YB3W2SWhQSlU"
      },
      "execution_count": 14,
      "outputs": []
    },
    {
      "cell_type": "code",
      "source": [
        "print(\"count of NULL values after imputation: \", df['F15'].isnull().sum())"
      ],
      "metadata": {
        "colab": {
          "base_uri": "https://localhost:8080/"
        },
        "id": "80JWazuKQbi1",
        "outputId": "1c232811-5974-44bb-bc02-eb259c4db60c"
      },
      "execution_count": 15,
      "outputs": [
        {
          "output_type": "stream",
          "name": "stdout",
          "text": [
            "count of NULL values after imputation:  0\n"
          ]
        }
      ]
    },
    {
      "cell_type": "code",
      "source": [
        "smote_oversample = SMOTE()\n",
        "y = df['Class']\n",
        "y_test = df_test['Class']\n",
        "X = df.drop('Class', axis = 1)\n",
        "#X_holdout = df_test.drop('Class', axis = 1)\n",
        "X_train, X_test, y_train, y_test = train_test_split(X, y, stratify=y, random_state=0)\n",
        "print('Before oversampling: ', Counter(y_train))\n",
        "X_train, y_train = smote_oversample.fit_resample(X_train, y_train)\n",
        "print('Afer oversampling: ', Counter(y_train))\n",
        "scaler_x = StandardScaler()\n",
        "X_train = scaler_x.fit_transform(X_train)\n",
        "X_test = scaler_x.fit_transform(X_test)\n",
        "X_holdout = scaler_x.transform(X_holdout)"
      ],
      "metadata": {
        "colab": {
          "base_uri": "https://localhost:8080/"
        },
        "id": "KIiXaX-PPXa-",
        "outputId": "e879b4d6-d278-41c2-d0ae-c0c843c857c4"
      },
      "execution_count": 16,
      "outputs": [
        {
          "output_type": "stream",
          "name": "stdout",
          "text": [
            "Before oversampling:  Counter({0.0: 607, 1.0: 518})\n",
            "Afer oversampling:  Counter({1.0: 607, 0.0: 607})\n"
          ]
        }
      ]
    },
    {
      "cell_type": "code",
      "source": [
        "#dtc = RandomForestClassifier(criterion = 'gini', random_state=0)\n",
        "#params = {'n_estimators':[100, 200], 'max_depth':[None,3,6,9,12], 'min_samples_split':[10,15,25,50], 'min_samples_leaf':[10,15,25,50]}\n",
        "#clf = GridSearchCV(dtc, params)\n",
        "#clf.fit(X_train, y_train)\n",
        "#clf.cv_results_['params']"
      ],
      "metadata": {
        "id": "WTRPssKeEjQt"
      },
      "execution_count": 17,
      "outputs": []
    },
    {
      "cell_type": "code",
      "source": [
        "#clf.cv_results_['mean_test_score']\n",
        "#0.87454038"
      ],
      "metadata": {
        "id": "tmSJDRRFJsum"
      },
      "execution_count": 18,
      "outputs": []
    },
    {
      "cell_type": "code",
      "source": [
        "#clf.cv_results_['std_test_score']"
      ],
      "metadata": {
        "id": "73HyJiGlJy3q"
      },
      "execution_count": 19,
      "outputs": []
    },
    {
      "cell_type": "code",
      "source": [
        "#clf.cv_results_['params'][49]"
      ],
      "metadata": {
        "id": "WD0XlIwRJDQS"
      },
      "execution_count": 20,
      "outputs": []
    },
    {
      "cell_type": "code",
      "source": [
        "results = []\n",
        "names = []\n",
        "testing = []"
      ],
      "metadata": {
        "id": "9GDt3qxVJJFT"
      },
      "execution_count": 21,
      "outputs": []
    },
    {
      "cell_type": "markdown",
      "source": [
        "**DECISION TREE**"
      ],
      "metadata": {
        "id": "alD1uebgTCYV"
      }
    },
    {
      "cell_type": "code",
      "source": [
        "dtc = DecisionTreeClassifier(criterion='entropy', max_depth=12, min_samples_split=3, random_state = 0)\n",
        "\n",
        "cv_results = cross_validate(dtc, X_train, y_train, scoring='f1', cv=10)\n",
        "results.append(cv_results['test_score'])\n",
        "names.append('DT')"
      ],
      "metadata": {
        "id": "nna8bvbPKBo7"
      },
      "execution_count": 22,
      "outputs": []
    },
    {
      "cell_type": "code",
      "source": [
        "dtc.fit(X_train, y_train)\n",
        "dtc_res = dtc.predict(X_test)\n",
        "dtc_testing = f1_score(dtc_res, y_test)\n",
        "testing.append(dtc_testing)"
      ],
      "metadata": {
        "id": "L0vsLbGuW9t7"
      },
      "execution_count": 23,
      "outputs": []
    },
    {
      "cell_type": "markdown",
      "source": [
        "**LOGISTIC REGRESSION** "
      ],
      "metadata": {
        "id": "VtsHl-dHTE0P"
      }
    },
    {
      "cell_type": "code",
      "source": [
        "lrc = LogisticRegression(penalty = 'none', max_iter = 1000, random_state = 0)\n",
        "\n",
        "cv_results = cross_validate(lrc, X_train, y_train, scoring='f1', cv=10)\n",
        "results.append(cv_results['test_score'])\n",
        "names.append('LR')"
      ],
      "metadata": {
        "id": "2_VygzoMWBny"
      },
      "execution_count": 24,
      "outputs": []
    },
    {
      "cell_type": "code",
      "source": [
        "lrc.fit(X_train, y_train)\n",
        "lrc_res = lrc.predict(X_test)\n",
        "lrc_testing = f1_score(lrc_res, y_test)\n",
        "testing.append(lrc_testing)"
      ],
      "metadata": {
        "id": "GrLY0bRwcyvG"
      },
      "execution_count": 25,
      "outputs": []
    },
    {
      "cell_type": "markdown",
      "source": [
        "**RANDOM FOREST CLASSIFIER**\n"
      ],
      "metadata": {
        "id": "LoIlk80zdw3G"
      }
    },
    {
      "cell_type": "code",
      "source": [
        "rfc = RandomForestClassifier(max_depth = 10, n_estimators = 200, criterion = 'gini', min_samples_split = 10, min_samples_leaf = 3, random_state = 0)\n",
        "\n",
        "cv_results = cross_validate(rfc, X_train, y_train, scoring='f1', cv=10)\n",
        "results.append(cv_results['test_score'])\n",
        "names.append('RF')"
      ],
      "metadata": {
        "id": "KElzzFB-dEer"
      },
      "execution_count": 26,
      "outputs": []
    },
    {
      "cell_type": "code",
      "source": [
        "rfc.fit(X_train, y_train)\n",
        "rfc_res = rfc.predict(X_test)\n",
        "rfc_testing = f1_score(rfc_res, y_test)\n",
        "testing.append(rfc_testing)"
      ],
      "metadata": {
        "id": "P8n6hCa2qB93"
      },
      "execution_count": 27,
      "outputs": []
    },
    {
      "cell_type": "markdown",
      "source": [
        "**GRADIENT BOOSTING CLASSIFIER**"
      ],
      "metadata": {
        "id": "FQzbOutcr-Jf"
      }
    },
    {
      "cell_type": "code",
      "source": [
        "gbc = GradientBoostingClassifier(max_depth = 10, subsample=0.30, n_estimators = 200, criterion = 'friedman_mse', min_samples_split = 25, min_samples_leaf = 3, random_state = 0)\n",
        "\n",
        "cv_results = cross_validate(gbc, X_train, y_train, scoring='f1', cv=10)\n",
        "results.append(cv_results['test_score'])\n",
        "names.append('GB')"
      ],
      "metadata": {
        "id": "u4wdEx2_sFSF"
      },
      "execution_count": 28,
      "outputs": []
    },
    {
      "cell_type": "code",
      "source": [
        "gbc.fit(X_train, y_train)\n",
        "gbc_res = gbc.predict(X_test)\n",
        "gbc_testing = f1_score(gbc_res, y_test)\n",
        "testing.append(gbc_testing)"
      ],
      "metadata": {
        "id": "_eCWX0idwkV0"
      },
      "execution_count": 29,
      "outputs": []
    },
    {
      "cell_type": "markdown",
      "source": [
        "**ADABOOST CLASSIFIER**"
      ],
      "metadata": {
        "id": "xKMLjOeZwt2A"
      }
    },
    {
      "cell_type": "code",
      "source": [
        "adb = AdaBoostClassifier(n_estimators=100, algorithm='SAMME.R', base_estimator = GradientBoostingClassifier(n_estimators = 500, subsample = 0.6, random_state = 0), random_state=0)\n",
        "\n",
        "cv_results = cross_validate(adb, X_train, y_train, scoring='f1', cv=10)\n",
        "results.append(cv_results['test_score'])\n",
        "names.append('ADB')"
      ],
      "metadata": {
        "id": "GtJryVW1wtGe"
      },
      "execution_count": 30,
      "outputs": []
    },
    {
      "cell_type": "code",
      "source": [
        "adb.fit(X_train, y_train)\n",
        "adb_res = adb.predict(X_test)\n",
        "adb_testing = f1_score(adb_res, y_test)\n",
        "testing.append(adb_testing)"
      ],
      "metadata": {
        "id": "gqUzDpyN2Veg"
      },
      "execution_count": 31,
      "outputs": []
    },
    {
      "cell_type": "markdown",
      "source": [
        "**MULTILAYER PERCEPTRON**"
      ],
      "metadata": {
        "id": "uQMcYxJgEH-9"
      }
    },
    {
      "cell_type": "code",
      "source": [
        "mlp = MLPClassifier(max_iter = 5000, hidden_layer_sizes=(60,120,120,60,30), solver='lbfgs', alpha=0.75, random_state=0)\n",
        "\n",
        "cv_results = cross_validate(mlp, X_train, y_train, scoring='f1', cv=10)\n",
        "results.append(cv_results['test_score'])\n",
        "names.append('MLP')"
      ],
      "metadata": {
        "id": "hShA-K_X0MVL"
      },
      "execution_count": 32,
      "outputs": []
    },
    {
      "cell_type": "code",
      "source": [
        "mlp.fit(X_train, y_train)\n",
        "mlp_res = mlp.predict(X_test)\n",
        "mlp_testing = f1_score(mlp_res, y_test)\n",
        "testing.append(mlp_testing)"
      ],
      "metadata": {
        "id": "3oSaCN6EQfCn"
      },
      "execution_count": 33,
      "outputs": []
    },
    {
      "cell_type": "markdown",
      "source": [
        "# **Model Comparison**"
      ],
      "metadata": {
        "id": "EeytxlO980p_"
      }
    },
    {
      "cell_type": "code",
      "source": [
        "fig = plt.figure()\n",
        "fig.suptitle('Algorithm Comparison')\n",
        "ax = fig.add_subplot(111)\n",
        "plt.boxplot(results)\n",
        "ax.set_xticklabels(names)\n",
        "plt.show()"
      ],
      "metadata": {
        "colab": {
          "base_uri": "https://localhost:8080/",
          "height": 294
        },
        "id": "ESzSWirBIsPP",
        "outputId": "6aea00da-8245-48c1-83c0-8228ac91dca5"
      },
      "execution_count": 34,
      "outputs": [
        {
          "output_type": "display_data",
          "data": {
            "text/plain": [
              "<Figure size 432x288 with 1 Axes>"
            ],
            "image/png": "[encoded data removed]"
          },
          "metadata": {
            "needs_background": "light"
          }
        }
      ]
    },
    {
      "cell_type": "code",
      "source": [
        "fig2 = plt.figure()\n",
        "colors = ['navy', 'green', 'brown', 'teal', 'orange', 'darkred']\n",
        "fig2.suptitle('Algorithm Comparison')\n",
        "bx = fig2.add_subplot(111)\n",
        "[plt.axhline(y=i, linestyle='--', color = 'gray') for i in testing]\n",
        "plt.scatter(names, testing, s=100, c=colors)\n",
        "plt.show()"
      ],
      "metadata": {
        "colab": {
          "base_uri": "https://localhost:8080/",
          "height": 294
        },
        "id": "v7FZ9iNJOhLU",
        "outputId": "19a61830-8f89-4f74-a14b-0dcfd71c6472"
      },
      "execution_count": 35,
      "outputs": [
        {
          "output_type": "display_data",
          "data": {
            "text/plain": [
              "<Figure size 432x288 with 1 Axes>"
            ],
            "image/png": "[encoded data removed]"
          },
          "metadata": {
            "needs_background": "light"
          }
        }
      ]
    },
    {
      "cell_type": "code",
      "source": [
        "feat_importances = pd.Series(adb.feature_importances_, index=df.columns.drop('Class'))\n",
        "feat_importances.nlargest(10).plot(kind='barh')"
      ],
      "metadata": {
        "colab": {
          "base_uri": "https://localhost:8080/",
          "height": 283
        },
        "id": "MlL4RkxdZsOv",
        "outputId": "ddccdb41-7812-4d8b-d83d-051ed58a7e65"
      },
      "execution_count": 36,
      "outputs": [
        {
          "output_type": "execute_result",
          "data": {
            "text/plain": [
              "<matplotlib.axes._subplots.AxesSubplot at 0x7f3562e73d10>"
            ]
          },
          "metadata": {},
          "execution_count": 36
        },
        {
          "output_type": "display_data",
          "data": {
            "text/plain": [
              "<Figure size 432x288 with 1 Axes>"
            ],
            "image/png": "[encoded data removed]"
          },
          "metadata": {
            "needs_background": "light"
          }
        }
      ]
    },
    {
      "cell_type": "code",
      "source": [
        "for result in results:\n",
        "  print(result.mean())\n",
        "  print(result.std())\n",
        "\n",
        "print('final')\n",
        "\n",
        "for result in testing:\n",
        "  print(result)"
      ],
      "metadata": {
        "colab": {
          "base_uri": "https://localhost:8080/"
        },
        "id": "_GqWPAIZ21q7",
        "outputId": "0b578092-a672-4c4a-e4f7-89119709fcef"
      },
      "execution_count": 40,
      "outputs": [
        {
          "output_type": "stream",
          "name": "stdout",
          "text": [
            "0.7739065386507218\n",
            "0.06838511198783692\n",
            "0.8765867171734207\n",
            "0.028664732137118145\n",
            "0.852314490081396\n",
            "0.04433016225816322\n",
            "0.8688091478983269\n",
            "0.03628601886322121\n",
            "0.8873103275041085\n",
            "0.03501969188181281\n",
            "0.9169301015803283\n",
            "0.0246817216058812\n",
            "final\n",
            "0.7477203647416415\n",
            "0.8595041322314049\n",
            "0.8273809523809523\n",
            "0.8385093167701863\n",
            "0.8434504792332267\n",
            "0.920353982300885\n"
          ]
        }
      ]
    },
    {
      "cell_type": "markdown",
      "source": [
        "# **Predictions on Holdout Set**"
      ],
      "metadata": {
        "id": "d8p2klxT6SXl"
      }
    },
    {
      "cell_type": "code",
      "source": [
        "predictions = mlp.predict(X_holdout)\n",
        "df_test['Class'] = predictions.astype(int)\n",
        "df_test['Class']"
      ],
      "metadata": {
        "colab": {
          "base_uri": "https://localhost:8080/"
        },
        "id": "EpUEZA1y6Rm9",
        "outputId": "9042a1d8-ba76-4a8f-cdd1-ca4508b7a773"
      },
      "execution_count": 37,
      "outputs": [
        {
          "output_type": "execute_result",
          "data": {
            "text/plain": [
              "0       0\n",
              "1       1\n",
              "2       0\n",
              "3       0\n",
              "4       0\n",
              "       ..\n",
              "1495    0\n",
              "1496    0\n",
              "1497    0\n",
              "1498    0\n",
              "1499    1\n",
              "Name: Class, Length: 1500, dtype: int64"
            ]
          },
          "metadata": {},
          "execution_count": 37
        }
      ]
    },
    {
      "cell_type": "code",
      "source": [
        "df_test.to_csv(\"CE802_P2_Test.csv\", index = False)"
      ],
      "metadata": {
        "id": "bYEw5pCK6_SS"
      },
      "execution_count": 38,
      "outputs": []
    }
  ]
}